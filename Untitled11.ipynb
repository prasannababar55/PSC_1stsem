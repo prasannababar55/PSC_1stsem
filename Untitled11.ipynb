{
 "cells": [
  {
   "cell_type": "code",
   "execution_count": 1,
   "id": "01444e54-b7f3-4d47-bb57-4d4d1c514318",
   "metadata": {},
   "outputs": [],
   "source": [
    "a = []\n"
   ]
  },
  {
   "cell_type": "code",
   "execution_count": 2,
   "id": "5a60ca00-52d0-4c7f-b408-01d216d7a76d",
   "metadata": {},
   "outputs": [
    {
     "data": {
      "text/plain": [
       "list"
      ]
     },
     "execution_count": 2,
     "metadata": {},
     "output_type": "execute_result"
    }
   ],
   "source": [
    "type(a)"
   ]
  },
  {
   "cell_type": "code",
   "execution_count": 3,
   "id": "a159e5da-f9a0-4d2a-a7e5-f0a101775428",
   "metadata": {},
   "outputs": [],
   "source": [
    "a=[1,4,6,9,\"Prasanna\",39.6,True,\"Manil\",369]"
   ]
  },
  {
   "cell_type": "code",
   "execution_count": 4,
   "id": "081fccf4-648a-46ba-b8b2-afc0dba2f115",
   "metadata": {},
   "outputs": [
    {
     "data": {
      "text/plain": [
       "list"
      ]
     },
     "execution_count": 4,
     "metadata": {},
     "output_type": "execute_result"
    }
   ],
   "source": [
    "type(a)"
   ]
  },
  {
   "cell_type": "code",
   "execution_count": 5,
   "id": "ccc7cc9a-0328-4025-825a-8013f69d136c",
   "metadata": {},
   "outputs": [
    {
     "data": {
      "text/plain": [
       "39.6"
      ]
     },
     "execution_count": 5,
     "metadata": {},
     "output_type": "execute_result"
    }
   ],
   "source": [
    "a[5]"
   ]
  },
  {
   "cell_type": "code",
   "execution_count": 7,
   "id": "c0f0701d-b9ff-45a1-b8a5-9cadde528dfb",
   "metadata": {},
   "outputs": [
    {
     "data": {
      "text/plain": [
       "'Manil'"
      ]
     },
     "execution_count": 7,
     "metadata": {},
     "output_type": "execute_result"
    }
   ],
   "source": [
    "a[7]"
   ]
  },
  {
   "cell_type": "code",
   "execution_count": 8,
   "id": "a8cfc963-65d9-43bb-9d90-c8335290c0e1",
   "metadata": {},
   "outputs": [
    {
     "data": {
      "text/plain": [
       "float"
      ]
     },
     "execution_count": 8,
     "metadata": {},
     "output_type": "execute_result"
    }
   ],
   "source": [
    "type(39.6)"
   ]
  },
  {
   "cell_type": "code",
   "execution_count": 9,
   "id": "24d21dff-18f8-4a75-a180-c74fc9271ecb",
   "metadata": {},
   "outputs": [
    {
     "data": {
      "text/plain": [
       "int"
      ]
     },
     "execution_count": 9,
     "metadata": {},
     "output_type": "execute_result"
    }
   ],
   "source": [
    "type(369)"
   ]
  },
  {
   "cell_type": "code",
   "execution_count": 10,
   "id": "a93cbfe4-10db-400b-bfd6-342924fb04e9",
   "metadata": {},
   "outputs": [
    {
     "data": {
      "text/plain": [
       "str"
      ]
     },
     "execution_count": 10,
     "metadata": {},
     "output_type": "execute_result"
    }
   ],
   "source": [
    "type(\"Prasanna\")"
   ]
  },
  {
   "cell_type": "code",
   "execution_count": 11,
   "id": "3c012088-e64c-4e34-a332-f81114eba3c1",
   "metadata": {},
   "outputs": [
    {
     "data": {
      "text/plain": [
       "bool"
      ]
     },
     "execution_count": 11,
     "metadata": {},
     "output_type": "execute_result"
    }
   ],
   "source": [
    "type(True)\n"
   ]
  },
  {
   "cell_type": "code",
   "execution_count": null,
   "id": "e6f5bf72-e796-4e2e-b9c5-ff7af7da541c",
   "metadata": {},
   "outputs": [],
   "source": []
  }
 ],
 "metadata": {
  "kernelspec": {
   "display_name": "Python 3 (ipykernel)",
   "language": "python",
   "name": "python3"
  },
  "language_info": {
   "codemirror_mode": {
    "name": "ipython",
    "version": 3
   },
   "file_extension": ".py",
   "mimetype": "text/x-python",
   "name": "python",
   "nbconvert_exporter": "python",
   "pygments_lexer": "ipython3",
   "version": "3.12.4"
  }
 },
 "nbformat": 4,
 "nbformat_minor": 5
}
